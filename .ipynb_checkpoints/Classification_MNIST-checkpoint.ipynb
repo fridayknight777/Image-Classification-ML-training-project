{
 "cells": [
  {
   "cell_type": "code",
   "execution_count": 1,
   "id": "65012a57",
   "metadata": {
    "pycharm": {
     "name": ""
    }
   },
   "outputs": [],
   "source": [
    "from sklearn.datasets import fetch_openml\n",
    "import matplotlib.pyplot as plt"
   ]
  },
  {
   "cell_type": "code",
   "execution_count": 2,
   "id": "4b51ea38",
   "metadata": {},
   "outputs": [],
   "source": [
    "mnist = fetch_openml('mnist_784',as_frame=False)"
   ]
  },
  {
   "cell_type": "code",
   "execution_count": 11,
   "id": "0e4fafe0",
   "metadata": {},
   "outputs": [
    {
     "data": {
      "text/plain": [
       "(70000, 784)"
      ]
     },
     "execution_count": 11,
     "metadata": {},
     "output_type": "execute_result"
    }
   ],
   "source": [
    "X,Y = mnist.data, mnist.target\n",
    "\n",
    "X.shape\n",
    "# 70000 black and white images, 28x28 pixels. Each pixel represents intesity, from 0 to 255"
   ]
  },
  {
   "cell_type": "code",
   "execution_count": null,
   "id": "862afeef",
   "metadata": {},
   "outputs": [],
   "source": []
  }
 ],
 "metadata": {
  "kernelspec": {
   "display_name": "Python 3 (ipykernel)",
   "language": "python",
   "name": "python3"
  },
  "language_info": {
   "codemirror_mode": {
    "name": "ipython",
    "version": 3
   },
   "file_extension": ".py",
   "mimetype": "text/x-python",
   "name": "python",
   "nbconvert_exporter": "python",
   "pygments_lexer": "ipython3",
   "version": "3.9.13"
  }
 },
 "nbformat": 4,
 "nbformat_minor": 5
}
