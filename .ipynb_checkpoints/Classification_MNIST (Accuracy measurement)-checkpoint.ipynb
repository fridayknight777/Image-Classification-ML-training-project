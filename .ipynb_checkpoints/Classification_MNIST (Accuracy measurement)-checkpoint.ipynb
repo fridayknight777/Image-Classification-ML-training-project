{
 "cells": [
  {
   "cell_type": "code",
   "execution_count": 2,
   "id": "d39d9b43",
   "metadata": {
    "pycharm": {
     "name": ""
    }
   },
   "outputs": [],
   "source": [
    "from sklearn.datasets import fetch_openml\n",
    "import matplotlib.pyplot as plt\n",
    "import joblib"
   ]
  },
  {
   "cell_type": "code",
   "execution_count": 3,
   "id": "cce6daca",
   "metadata": {},
   "outputs": [],
   "source": [
    "mnist = fetch_openml('mnist_784',as_frame=False)"
   ]
  },
  {
   "cell_type": "code",
   "execution_count": 4,
   "id": "fc05ad07",
   "metadata": {},
   "outputs": [
    {
     "data": {
      "text/plain": [
       "(70000, 784)"
      ]
     },
     "execution_count": 4,
     "metadata": {},
     "output_type": "execute_result"
    }
   ],
   "source": [
    "X,Y = mnist.data, mnist.target\n",
    "\n",
    "X.shape\n",
    "# 70000 black and white images, 28x28 pixels. Each pixel represents intesity, from 0 to 255"
   ]
  },
  {
   "cell_type": "code",
   "execution_count": 5,
   "id": "06effa2c",
   "metadata": {},
   "outputs": [],
   "source": [
    "def plot_digit(image_data):\n",
    "    image = image_data.reshape(28,28)\n",
    "    plt.imshow(image,cmap=\"binary\")\n",
    "    plt.axis(\"off\")"
   ]
  },
  {
   "cell_type": "code",
   "execution_count": 6,
   "id": "1dfb981e",
   "metadata": {},
   "outputs": [
    {
     "data": {
      "image/png": "[encoded data removed]",
      "text/plain": [
       "<Figure size 640x480 with 1 Axes>"
      ]
     },
     "metadata": {},
     "output_type": "display_data"
    },
    {
     "data": {
      "text/plain": [
       "'7'"
      ]
     },
     "execution_count": 6,
     "metadata": {},
     "output_type": "execute_result"
    }
   ],
   "source": [
    "n = 9999\n",
    "\n",
    "some_digit = X[n]\n",
    "plot_digit(some_digit)\n",
    "plt.show()\n",
    "\n",
    "Y[n]"
   ]
  },
  {
   "cell_type": "code",
   "execution_count": 7,
   "id": "286bf7d2",
   "metadata": {},
   "outputs": [],
   "source": [
    "X_train, X_test, Y_train, Y_test = X[:60000], X[60000:], Y[:60000], Y[60000:]"
   ]
  },
  {
   "cell_type": "code",
   "execution_count": 8,
   "id": "87dd12b4",
   "metadata": {},
   "outputs": [
    {
     "data": {
      "text/plain": [
       "SGDClassifier(random_state=42)"
      ]
     },
     "execution_count": 8,
     "metadata": {},
     "output_type": "execute_result"
    }
   ],
   "source": [
    "from sklearn.linear_model import SGDClassifier\n",
    "\n",
    "# Binary classifier\n",
    "\n",
    "Y_train_5 = (Y_train=='5')\n",
    "Y_test_5 = (Y_test == '5')\n",
    "\n",
    "sgd_clf = SGDClassifier(random_state=42)\n",
    "sgd_clf.fit(X_train, Y_train_5)\n",
    "\n"
   ]
  },
  {
   "cell_type": "code",
   "execution_count": 9,
   "id": "b3f1dfa5",
   "metadata": {},
   "outputs": [
    {
     "data": {
      "image/png": "[encoded data removed]",
      "text/plain": [
       "<Figure size 640x480 with 1 Axes>"
      ]
     },
     "metadata": {},
     "output_type": "display_data"
    },
    {
     "data": {
      "text/plain": [
       "array([ True])"
      ]
     },
     "execution_count": 9,
     "metadata": {},
     "output_type": "execute_result"
    }
   ],
   "source": [
    "# Testing manually \n",
    "n = 15\n",
    "\n",
    "some_digit = X_test[n]\n",
    "plot_digit(some_digit)\n",
    "plt.show()\n",
    "\n",
    "Y_test[n]\n",
    "\n",
    "\n",
    "X_test_reshaped = X_test[n].reshape(1, -1)\n",
    "sgd_clf.predict(X_test_reshaped)"
   ]
  },
  {
   "cell_type": "code",
   "execution_count": 12,
   "id": "dcc6a988",
   "metadata": {},
   "outputs": [
    {
     "data": {
      "text/plain": [
       "array([0.95035, 0.96035, 0.9604 ])"
      ]
     },
     "execution_count": 12,
     "metadata": {},
     "output_type": "execute_result"
    }
   ],
   "source": [
    "# cross val score measurement\n",
    "from sklearn.model_selection import cross_val_score\n",
    "\n",
    "cross_val_score(sgd_clf,X_train,Y_train_5,cv=3,scoring=\"accuracy\")"
   ]
  },
  {
   "cell_type": "code",
   "execution_count": 13,
   "id": "b1a83d56",
   "metadata": {},
   "outputs": [
    {
     "data": {
      "text/plain": [
       "array([0.90965, 0.90965, 0.90965])"
      ]
     },
     "execution_count": 13,
     "metadata": {},
     "output_type": "execute_result"
    }
   ],
   "source": [
    "from sklearn.dummy import DummyClassifier\n",
    "\n",
    "dummy_clf = DummyClassifier()\n",
    "dummy_clf.fit(X_train,Y_train_5)\n",
    "\n",
    "cross_val_score(dummy_clf,X_train,Y_train_5,cv=3,scoring=\"accuracy\")"
   ]
  },
  {
   "cell_type": "code",
   "execution_count": 17,
   "id": "1c37b6ea",
   "metadata": {},
   "outputs": [],
   "source": [
    "from sklearn.model_selection import cross_val_predict\n",
    "from sklearn.metrics import confusion_matrix\n",
    "\n",
    "Y_train_pred = cross_val_predict(sgd_clf, X_train, Y_train_5,cv=3)\n",
    "cm = confusion_matrix(Y_train_5,Y_train_pred)"
   ]
  },
  {
   "cell_type": "code",
   "execution_count": 20,
   "id": "62879db7",
   "metadata": {},
   "outputs": [
    {
     "data": {
      "text/plain": [
       "array([[53892,   687],\n",
       "       [ 1891,  3530]], dtype=int64)"
      ]
     },
     "execution_count": 20,
     "metadata": {},
     "output_type": "execute_result"
    }
   ],
   "source": [
    "cm\n",
    "\n",
    "\n",
    "# [true negative, false positive,\n",
    "#  false negative, true positive]\n",
    "\n",
    "# True negaitve - when something was classified correctly as negative\n",
    "# False positive - when something was classified incorrectly as positive\n",
    "# False negative - when something was classified incorrectly as negative\n",
    "# True positive - when something was classified correclty as positive\n",
    "\n",
    "# In a perfect model, values only in a major diagonal will be non-zero."
   ]
  },
  {
   "cell_type": "code",
   "execution_count": null,
   "id": "79127cee",
   "metadata": {},
   "outputs": [],
   "source": []
  }
 ],
 "metadata": {
  "kernelspec": {
   "display_name": "Python 3 (ipykernel)",
   "language": "python",
   "name": "python3"
  },
  "language_info": {
   "codemirror_mode": {
    "name": "ipython",
    "version": 3
   },
   "file_extension": ".py",
   "mimetype": "text/x-python",
   "name": "python",
   "nbconvert_exporter": "python",
   "pygments_lexer": "ipython3",
   "version": "3.9.13"
  }
 },
 "nbformat": 4,
 "nbformat_minor": 5
}
